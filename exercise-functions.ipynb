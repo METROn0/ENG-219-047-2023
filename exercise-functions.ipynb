{
 "cells": [
  {
   "cell_type": "markdown",
   "id": "0c803850",
   "metadata": {
    "papermill": {
     "duration": 0.005595,
     "end_time": "2025-03-05T11:03:17.725307",
     "exception": false,
     "start_time": "2025-03-05T11:03:17.719712",
     "status": "completed"
    },
    "tags": []
   },
   "source": [
    "**This notebook is an exercise in the [Intro to Programming](https://www.kaggle.com/learn/intro-to-programming) course.  You can reference the tutorial at [this link](https://www.kaggle.com/alexisbcook/functions).**\n",
    "\n",
    "---\n"
   ]
  },
  {
   "cell_type": "markdown",
   "id": "c99391dd",
   "metadata": {
    "papermill": {
     "duration": 0.004479,
     "end_time": "2025-03-05T11:03:17.734904",
     "exception": false,
     "start_time": "2025-03-05T11:03:17.730425",
     "status": "completed"
    },
    "tags": []
   },
   "source": [
    "In the tutorial, you learned about functions. In this exercise, you'll write some of your own!\n",
    "\n",
    "# Set up the notebook\n",
    "\n",
    "Run the next code cell without changes to set up the notebook."
   ]
  },
  {
   "cell_type": "code",
   "execution_count": 1,
   "id": "5d556463",
   "metadata": {
    "execution": {
     "iopub.execute_input": "2025-03-05T11:03:17.747901Z",
     "iopub.status.busy": "2025-03-05T11:03:17.747411Z",
     "iopub.status.idle": "2025-03-05T11:03:19.001658Z",
     "shell.execute_reply": "2025-03-05T11:03:19.000506Z"
    },
    "papermill": {
     "duration": 1.262845,
     "end_time": "2025-03-05T11:03:19.003538",
     "exception": false,
     "start_time": "2025-03-05T11:03:17.740693",
     "status": "completed"
    },
    "tags": []
   },
   "outputs": [
    {
     "name": "stdout",
     "output_type": "stream",
     "text": [
      "Setup complete.\n"
     ]
    }
   ],
   "source": [
    "# Set up the exercise\n",
    "import math\n",
    "from learntools.core import binder\n",
    "binder.bind(globals())\n",
    "from learntools.intro_to_programming.ex2 import *\n",
    "print('Setup complete.')"
   ]
  },
  {
   "cell_type": "markdown",
   "id": "7842de67",
   "metadata": {
    "papermill": {
     "duration": 0.004605,
     "end_time": "2025-03-05T11:03:19.013291",
     "exception": false,
     "start_time": "2025-03-05T11:03:19.008686",
     "status": "completed"
    },
    "tags": []
   },
   "source": [
    "# Question 1\n",
    "\n",
    "In the [House Prices - Advanced Regression Techniques competition](https://www.kaggle.com/c/house-prices-advanced-regression-techniques/overview), you need to use information like the number of bedrooms and bathrooms to predict the price of a house.  Inspired by this competition, you'll write your own function to do this.\n",
    "\n",
    "In the next code cell, create a function `get_expected_cost()` that has two arguments:\n",
    "- `beds` - number of bedrooms \n",
    "- `baths` - number of bathrooms\n",
    "\n",
    "It should return the expected cost of a house with that number of bedrooms and bathrooms.  Assume that:\n",
    "- the expected cost for a house with 0 bedrooms and 0 bathrooms is `80000`.  \n",
    "- each bedroom adds `30000` to the expected cost\n",
    "- each bathroom adds `10000` to the expected cost.\n",
    "\n",
    "For instance, \n",
    "- a house with 1 bedroom and 1 bathroom has an expected cost of `120000`, and \n",
    "- a house with 2 bedrooms and 1 bathroom has an expected cost of `150000`."
   ]
  },
  {
   "cell_type": "code",
   "execution_count": 2,
   "id": "4a548794",
   "metadata": {
    "execution": {
     "iopub.execute_input": "2025-03-05T11:03:19.024555Z",
     "iopub.status.busy": "2025-03-05T11:03:19.023987Z",
     "iopub.status.idle": "2025-03-05T11:03:19.033033Z",
     "shell.execute_reply": "2025-03-05T11:03:19.032161Z"
    },
    "papermill": {
     "duration": 0.016657,
     "end_time": "2025-03-05T11:03:19.034760",
     "exception": false,
     "start_time": "2025-03-05T11:03:19.018103",
     "status": "completed"
    },
    "tags": []
   },
   "outputs": [
    {
     "data": {
      "application/javascript": [
       "parent.postMessage({\"jupyterEvent\": \"custom.exercise_interaction\", \"data\": {\"outcomeType\": 1, \"valueTowardsCompletion\": 0.2, \"interactionType\": 1, \"questionType\": 2, \"questionId\": \"1_GetExpectedCost\", \"learnToolsVersion\": \"0.3.4\", \"failureMessage\": \"\", \"exceptionClass\": \"\", \"trace\": \"\"}}, \"*\")"
      ],
      "text/plain": [
       "<IPython.core.display.Javascript object>"
      ]
     },
     "metadata": {},
     "output_type": "display_data"
    },
    {
     "data": {
      "text/markdown": [
       "<span style=\"color:#33cc33\">Correct</span>"
      ],
      "text/plain": [
       "Correct"
      ]
     },
     "metadata": {},
     "output_type": "display_data"
    }
   ],
   "source": [
    "# TODO: Complete the function\n",
    "def get_expected_cost(beds, baths):\n",
    "    value = 80000 + 30000 * beds + 10000 * baths\n",
    "    return value\n",
    "\n",
    "# Check your answer \n",
    "q1.check()"
   ]
  },
  {
   "cell_type": "code",
   "execution_count": 3,
   "id": "e1c48ec6",
   "metadata": {
    "execution": {
     "iopub.execute_input": "2025-03-05T11:03:19.046623Z",
     "iopub.status.busy": "2025-03-05T11:03:19.046285Z",
     "iopub.status.idle": "2025-03-05T11:03:19.049955Z",
     "shell.execute_reply": "2025-03-05T11:03:19.049061Z"
    },
    "papermill": {
     "duration": 0.011572,
     "end_time": "2025-03-05T11:03:19.051756",
     "exception": false,
     "start_time": "2025-03-05T11:03:19.040184",
     "status": "completed"
    },
    "tags": []
   },
   "outputs": [],
   "source": [
    "# Uncomment to see a hint\n",
    "#q1.hint()\n",
    "\n",
    "# Uncomment to view the solution\n",
    "#q1.solution()"
   ]
  },
  {
   "cell_type": "markdown",
   "id": "b3baa0ab",
   "metadata": {
    "papermill": {
     "duration": 0.005369,
     "end_time": "2025-03-05T11:03:19.062523",
     "exception": false,
     "start_time": "2025-03-05T11:03:19.057154",
     "status": "completed"
    },
    "tags": []
   },
   "source": [
    "# Question 2\n",
    "\n",
    "You are thinking about buying a home and want to get an idea of how much you will spend, based on the number of bedrooms and bathrooms.  You are trying to decide between four different options:\n",
    "- Option 1: house with two bedrooms and three bathrooms\n",
    "- Option 2: house with three bedrooms and two bathrooms\n",
    "- Option 3: house with three bedrooms and three bathrooms\n",
    "- Option 4: house with three bedrooms and four bathrooms\n",
    "\n",
    "Use the `get_expected_cost()` function you defined in question 1 to set `option_1`, `option_2`, `option_3`, and `option_4` to the expected cost of each option."
   ]
  },
  {
   "cell_type": "code",
   "execution_count": 4,
   "id": "20fa57f4",
   "metadata": {
    "execution": {
     "iopub.execute_input": "2025-03-05T11:03:19.074804Z",
     "iopub.status.busy": "2025-03-05T11:03:19.074428Z",
     "iopub.status.idle": "2025-03-05T11:03:19.084427Z",
     "shell.execute_reply": "2025-03-05T11:03:19.083455Z"
    },
    "papermill": {
     "duration": 0.018315,
     "end_time": "2025-03-05T11:03:19.086315",
     "exception": false,
     "start_time": "2025-03-05T11:03:19.068000",
     "status": "completed"
    },
    "tags": []
   },
   "outputs": [
    {
     "name": "stdout",
     "output_type": "stream",
     "text": [
      "170000\n",
      "190000\n",
      "200000\n",
      "210000\n"
     ]
    },
    {
     "data": {
      "application/javascript": [
       "parent.postMessage({\"jupyterEvent\": \"custom.exercise_interaction\", \"data\": {\"outcomeType\": 1, \"valueTowardsCompletion\": 0.2, \"interactionType\": 1, \"questionType\": 1, \"questionId\": \"2_RunGetExpectedCost\", \"learnToolsVersion\": \"0.3.4\", \"failureMessage\": \"\", \"exceptionClass\": \"\", \"trace\": \"\"}}, \"*\")"
      ],
      "text/plain": [
       "<IPython.core.display.Javascript object>"
      ]
     },
     "metadata": {},
     "output_type": "display_data"
    },
    {
     "data": {
      "text/markdown": [
       "<span style=\"color:#33cc33\">Correct</span>"
      ],
      "text/plain": [
       "Correct"
      ]
     },
     "metadata": {},
     "output_type": "display_data"
    }
   ],
   "source": [
    "# TODO: Use the get_expected_cost function to fill in each value\n",
    "option_one = 80000 + 30000 * 2 + 10000 * 3\n",
    "option_two = 80000 + 30000 * 3 + 10000 * 2\n",
    "option_three = 80000 + 30000 * 3 + 10000 * 3\n",
    "option_four = 80000 + 30000 * 3 + 10000 *4\n",
    "\n",
    "print(option_one)\n",
    "print(option_two)\n",
    "print(option_three)\n",
    "print(option_four)\n",
    "\n",
    "# Check your answer\n",
    "q2.check()"
   ]
  },
  {
   "cell_type": "code",
   "execution_count": 5,
   "id": "cb1c815b",
   "metadata": {
    "execution": {
     "iopub.execute_input": "2025-03-05T11:03:19.098512Z",
     "iopub.status.busy": "2025-03-05T11:03:19.098130Z",
     "iopub.status.idle": "2025-03-05T11:03:19.102275Z",
     "shell.execute_reply": "2025-03-05T11:03:19.101167Z"
    },
    "papermill": {
     "duration": 0.012315,
     "end_time": "2025-03-05T11:03:19.104117",
     "exception": false,
     "start_time": "2025-03-05T11:03:19.091802",
     "status": "completed"
    },
    "tags": []
   },
   "outputs": [],
   "source": [
    "# Uncomment to see a hint\n",
    "#q2.hint()\n",
    "\n",
    "# Uncomment to view the solution\n",
    "\n",
    "#q2.solution()"
   ]
  },
  {
   "cell_type": "markdown",
   "id": "237f4f53",
   "metadata": {
    "papermill": {
     "duration": 0.005341,
     "end_time": "2025-03-05T11:03:19.115130",
     "exception": false,
     "start_time": "2025-03-05T11:03:19.109789",
     "status": "completed"
    },
    "tags": []
   },
   "source": [
    "# Question 3\n",
    "\n",
    "You're a home decorator, and you'd like to use Python to streamline some of your work.  Specifically, you're creating a tool that you intend to use to calculate the cost of painting a room.\n",
    "\n",
    "As a first step, define a function `get_cost()` that takes as input:\n",
    "- `sqft_walls` = total square feet of walls to be painted\n",
    "- `sqft_ceiling` = square feet of ceiling to be painted\n",
    "- `sqft_per_gallon` = number of square feet that you can cover with one gallon of paint\n",
    "- `cost_per_gallon` = cost (in dollars) of one gallon of paint\n",
    "\n",
    "It should return the cost (in dollars) of putting one coat of paint on all walls and the ceiling.  Assume you can buy the exact amount of paint that you need, so you can buy partial gallons (e.g., if you need 7.523 gallons, you can buy that exact amount, instead of needing to buy 8 gallons and waste some paint).  Do not round your answer."
   ]
  },
  {
   "cell_type": "code",
   "execution_count": 6,
   "id": "2cd34bb8",
   "metadata": {
    "execution": {
     "iopub.execute_input": "2025-03-05T11:03:19.127462Z",
     "iopub.status.busy": "2025-03-05T11:03:19.127110Z",
     "iopub.status.idle": "2025-03-05T11:03:19.135718Z",
     "shell.execute_reply": "2025-03-05T11:03:19.134584Z"
    },
    "papermill": {
     "duration": 0.016819,
     "end_time": "2025-03-05T11:03:19.137466",
     "exception": false,
     "start_time": "2025-03-05T11:03:19.120647",
     "status": "completed"
    },
    "tags": []
   },
   "outputs": [
    {
     "data": {
      "application/javascript": [
       "parent.postMessage({\"jupyterEvent\": \"custom.exercise_interaction\", \"data\": {\"outcomeType\": 1, \"valueTowardsCompletion\": 0.2, \"interactionType\": 1, \"questionType\": 2, \"questionId\": \"3_GetCostPaint\", \"learnToolsVersion\": \"0.3.4\", \"failureMessage\": \"\", \"exceptionClass\": \"\", \"trace\": \"\"}}, \"*\")"
      ],
      "text/plain": [
       "<IPython.core.display.Javascript object>"
      ]
     },
     "metadata": {},
     "output_type": "display_data"
    },
    {
     "data": {
      "text/markdown": [
       "<span style=\"color:#33cc33\">Correct</span>"
      ],
      "text/plain": [
       "Correct"
      ]
     },
     "metadata": {},
     "output_type": "display_data"
    }
   ],
   "source": [
    "# TODO: Finish defining the function\n",
    "def get_cost(sqft_walls, sqft_ceiling, sqft_per_gallon, cost_per_gallon):\n",
    "    total_sqft = sqft_walls + sqft_ceiling\n",
    "    gallons_needed = total_sqft / sqft_per_gallon\n",
    "    cost = cost_per_gallon * gallons_needed\n",
    "    return cost\n",
    "\n",
    "# Check your answer\n",
    "q3.check()"
   ]
  },
  {
   "cell_type": "code",
   "execution_count": 7,
   "id": "5c86085f",
   "metadata": {
    "execution": {
     "iopub.execute_input": "2025-03-05T11:03:19.150679Z",
     "iopub.status.busy": "2025-03-05T11:03:19.150315Z",
     "iopub.status.idle": "2025-03-05T11:03:19.154439Z",
     "shell.execute_reply": "2025-03-05T11:03:19.153312Z"
    },
    "papermill": {
     "duration": 0.012732,
     "end_time": "2025-03-05T11:03:19.156309",
     "exception": false,
     "start_time": "2025-03-05T11:03:19.143577",
     "status": "completed"
    },
    "tags": []
   },
   "outputs": [],
   "source": [
    "# Uncomment to see a hint\n",
    "#q3.hint()\n",
    "\n",
    "# Uncomment to view the solution\n",
    "#q3.solution()"
   ]
  },
  {
   "cell_type": "markdown",
   "id": "891a6bb2",
   "metadata": {
    "papermill": {
     "duration": 0.0058,
     "end_time": "2025-03-05T11:03:19.167998",
     "exception": false,
     "start_time": "2025-03-05T11:03:19.162198",
     "status": "completed"
    },
    "tags": []
   },
   "source": [
    "# Question 4\n",
    "\n",
    "Use the `get_cost()` function you defined in Question 3 to calculate the cost of applying one coat of paint to a room with:\n",
    "- 432 square feet of walls, and\n",
    "- 144 square feet of ceiling.\n",
    "\n",
    "Assume that one gallon of paint covers 400 square feet and costs $15.  As in Question 3, assume you can buy partial gallons of paint.  Do not round your answer."
   ]
  },
  {
   "cell_type": "code",
   "execution_count": 8,
   "id": "2f2d4ac1",
   "metadata": {
    "execution": {
     "iopub.execute_input": "2025-03-05T11:03:19.180894Z",
     "iopub.status.busy": "2025-03-05T11:03:19.180568Z",
     "iopub.status.idle": "2025-03-05T11:03:19.188547Z",
     "shell.execute_reply": "2025-03-05T11:03:19.187596Z"
    },
    "papermill": {
     "duration": 0.0166,
     "end_time": "2025-03-05T11:03:19.190471",
     "exception": false,
     "start_time": "2025-03-05T11:03:19.173871",
     "status": "completed"
    },
    "tags": []
   },
   "outputs": [
    {
     "data": {
      "application/javascript": [
       "parent.postMessage({\"jupyterEvent\": \"custom.exercise_interaction\", \"data\": {\"outcomeType\": 1, \"valueTowardsCompletion\": 0.2, \"interactionType\": 1, \"questionType\": 1, \"questionId\": \"4_GetCostPaintExample\", \"learnToolsVersion\": \"0.3.4\", \"failureMessage\": \"\", \"exceptionClass\": \"\", \"trace\": \"\"}}, \"*\")"
      ],
      "text/plain": [
       "<IPython.core.display.Javascript object>"
      ]
     },
     "metadata": {},
     "output_type": "display_data"
    },
    {
     "data": {
      "text/markdown": [
       "<span style=\"color:#33cc33\">Correct</span>"
      ],
      "text/plain": [
       "Correct"
      ]
     },
     "metadata": {},
     "output_type": "display_data"
    }
   ],
   "source": [
    "# TODO: Set the project_cost variable to the cost of the project\n",
    "total_sqft = 432 + 144\n",
    "gallons_needed = total_sqft / 400\n",
    "project_cost = 15 * gallons_needed\n",
    "\n",
    "# Check your answer\n",
    "q4.check()"
   ]
  },
  {
   "cell_type": "code",
   "execution_count": 9,
   "id": "bda430a1",
   "metadata": {
    "execution": {
     "iopub.execute_input": "2025-03-05T11:03:19.203998Z",
     "iopub.status.busy": "2025-03-05T11:03:19.203619Z",
     "iopub.status.idle": "2025-03-05T11:03:19.207563Z",
     "shell.execute_reply": "2025-03-05T11:03:19.206440Z"
    },
    "papermill": {
     "duration": 0.01265,
     "end_time": "2025-03-05T11:03:19.209289",
     "exception": false,
     "start_time": "2025-03-05T11:03:19.196639",
     "status": "completed"
    },
    "tags": []
   },
   "outputs": [],
   "source": [
    "# Uncomment to see a hint\n",
    "#q4.hint()\n",
    "\n",
    "# Uncomment to view the solution\n",
    "#q4.solution()"
   ]
  },
  {
   "cell_type": "markdown",
   "id": "8206f940",
   "metadata": {
    "papermill": {
     "duration": 0.005683,
     "end_time": "2025-03-05T11:03:19.221183",
     "exception": false,
     "start_time": "2025-03-05T11:03:19.215500",
     "status": "completed"
    },
    "tags": []
   },
   "source": [
    "# 🌶️ Question 5\n",
    "\n",
    "Now say you can no longer buy fractions of a gallon.  (For instance, if you need 4.3 gallons to do a project, then you have to buy 5 gallons of paint.)\n",
    "\n",
    "With this new scenario, you will create a new function `get_actual_cost` that uses the same inputs and calculates the cost of your project.\n",
    "\n",
    "One function that you'll need to use to do this is `math.ceil()`.  We demonstrate usage of this function in the code cell below.  It takes as a number as input and rounds the number up to the nearest integer.  \n",
    "\n",
    "Run the next code cell to test this function for yourself.  Feel free to change the value of `test_value` and make sure `math.ceil()` returns the number you expect."
   ]
  },
  {
   "cell_type": "code",
   "execution_count": 10,
   "id": "5e59a5ae",
   "metadata": {
    "execution": {
     "iopub.execute_input": "2025-03-05T11:03:19.234952Z",
     "iopub.status.busy": "2025-03-05T11:03:19.234586Z",
     "iopub.status.idle": "2025-03-05T11:03:19.239843Z",
     "shell.execute_reply": "2025-03-05T11:03:19.238602Z"
    },
    "papermill": {
     "duration": 0.01378,
     "end_time": "2025-03-05T11:03:19.241521",
     "exception": false,
     "start_time": "2025-03-05T11:03:19.227741",
     "status": "completed"
    },
    "tags": []
   },
   "outputs": [
    {
     "name": "stdout",
     "output_type": "stream",
     "text": [
      "3\n"
     ]
    }
   ],
   "source": [
    "test_value = 2.17\n",
    "\n",
    "rounded_value = math.ceil(test_value)\n",
    "print(rounded_value)"
   ]
  },
  {
   "cell_type": "markdown",
   "id": "193402a6",
   "metadata": {
    "papermill": {
     "duration": 0.005582,
     "end_time": "2025-03-05T11:03:19.253253",
     "exception": false,
     "start_time": "2025-03-05T11:03:19.247671",
     "status": "completed"
    },
    "tags": []
   },
   "source": [
    "Use the next code cell to define the function `get_actual_cost()`.  You'll need to use the `math.ceil()` function to do this.\n",
    "\n",
    "When answering this question, note that it's completely valid to define a function that makes use of another function.  For instance, we can define a function `round_up_and_divide_by_three` that makes use of the `math.ceil` function:\n",
    "```\n",
    "def round_up_and_divide_by_three(num):\n",
    "    new_value = math.ceil(num)\n",
    "    final_value = new_value / 3\n",
    "    return final_value\n",
    "```"
   ]
  },
  {
   "cell_type": "code",
   "execution_count": 11,
   "id": "fa498ef1",
   "metadata": {
    "execution": {
     "iopub.execute_input": "2025-03-05T11:03:19.266319Z",
     "iopub.status.busy": "2025-03-05T11:03:19.265917Z",
     "iopub.status.idle": "2025-03-05T11:03:19.274294Z",
     "shell.execute_reply": "2025-03-05T11:03:19.273275Z"
    },
    "papermill": {
     "duration": 0.016964,
     "end_time": "2025-03-05T11:03:19.276104",
     "exception": false,
     "start_time": "2025-03-05T11:03:19.259140",
     "status": "completed"
    },
    "tags": []
   },
   "outputs": [
    {
     "data": {
      "application/javascript": [
       "parent.postMessage({\"jupyterEvent\": \"custom.exercise_interaction\", \"data\": {\"outcomeType\": 1, \"valueTowardsCompletion\": 0.2, \"interactionType\": 1, \"questionType\": 2, \"questionId\": \"5_NoMoreFractions\", \"learnToolsVersion\": \"0.3.4\", \"failureMessage\": \"\", \"exceptionClass\": \"\", \"trace\": \"\"}}, \"*\")"
      ],
      "text/plain": [
       "<IPython.core.display.Javascript object>"
      ]
     },
     "metadata": {},
     "output_type": "display_data"
    },
    {
     "data": {
      "text/markdown": [
       "<span style=\"color:#33cc33\">Correct</span>"
      ],
      "text/plain": [
       "Correct"
      ]
     },
     "metadata": {},
     "output_type": "display_data"
    }
   ],
   "source": [
    "def get_actual_cost(sqft_walls, sqft_ceiling, sqft_per_gallon, cost_per_gallon):\n",
    "    total_sqft = sqft_walls + sqft_ceiling\n",
    "    gallons_needed = total_sqft / sqft_per_gallon\n",
    "    actual_gallons_needed = math.ceil(gallons_needed)\n",
    "    cost = cost_per_gallon * actual_gallons_needed\n",
    "    return cost\n",
    "\n",
    "# Check your answer\n",
    "q5.check()"
   ]
  },
  {
   "cell_type": "code",
   "execution_count": 12,
   "id": "38ae884f",
   "metadata": {
    "execution": {
     "iopub.execute_input": "2025-03-05T11:03:19.290173Z",
     "iopub.status.busy": "2025-03-05T11:03:19.289780Z",
     "iopub.status.idle": "2025-03-05T11:03:19.293484Z",
     "shell.execute_reply": "2025-03-05T11:03:19.292494Z"
    },
    "papermill": {
     "duration": 0.012334,
     "end_time": "2025-03-05T11:03:19.295076",
     "exception": false,
     "start_time": "2025-03-05T11:03:19.282742",
     "status": "completed"
    },
    "tags": []
   },
   "outputs": [],
   "source": [
    "# Uncomment to see a hint\n",
    "#q5.hint()\n",
    "\n",
    "# Uncomment to view the solution\n",
    "#q5.solution()"
   ]
  },
  {
   "cell_type": "markdown",
   "id": "7da120e6",
   "metadata": {
    "papermill": {
     "duration": 0.006225,
     "end_time": "2025-03-05T11:03:19.308064",
     "exception": false,
     "start_time": "2025-03-05T11:03:19.301839",
     "status": "completed"
    },
    "tags": []
   },
   "source": [
    "Once your function is verified as correct, run the next code cell to calculate the updated cost of your project."
   ]
  },
  {
   "cell_type": "code",
   "execution_count": 13,
   "id": "eb0d29ef",
   "metadata": {
    "execution": {
     "iopub.execute_input": "2025-03-05T11:03:19.322096Z",
     "iopub.status.busy": "2025-03-05T11:03:19.321721Z",
     "iopub.status.idle": "2025-03-05T11:03:19.327639Z",
     "shell.execute_reply": "2025-03-05T11:03:19.326532Z"
    },
    "papermill": {
     "duration": 0.015086,
     "end_time": "2025-03-05T11:03:19.329436",
     "exception": false,
     "start_time": "2025-03-05T11:03:19.314350",
     "status": "completed"
    },
    "tags": []
   },
   "outputs": [
    {
     "data": {
      "text/plain": [
       "30"
      ]
     },
     "execution_count": 13,
     "metadata": {},
     "output_type": "execute_result"
    }
   ],
   "source": [
    "get_actual_cost(432, 144, 400, 15) "
   ]
  },
  {
   "cell_type": "markdown",
   "id": "81d24ce6",
   "metadata": {
    "papermill": {
     "duration": 0.006,
     "end_time": "2025-03-05T11:03:19.341792",
     "exception": false,
     "start_time": "2025-03-05T11:03:19.335792",
     "status": "completed"
    },
    "tags": []
   },
   "source": [
    "Say you're working with a slightly larger room.  Run the next code cell to calculate the cost of the project."
   ]
  },
  {
   "cell_type": "code",
   "execution_count": 14,
   "id": "a17a727c",
   "metadata": {
    "execution": {
     "iopub.execute_input": "2025-03-05T11:03:19.356065Z",
     "iopub.status.busy": "2025-03-05T11:03:19.355654Z",
     "iopub.status.idle": "2025-03-05T11:03:19.361574Z",
     "shell.execute_reply": "2025-03-05T11:03:19.360345Z"
    },
    "papermill": {
     "duration": 0.015225,
     "end_time": "2025-03-05T11:03:19.363354",
     "exception": false,
     "start_time": "2025-03-05T11:03:19.348129",
     "status": "completed"
    },
    "tags": []
   },
   "outputs": [
    {
     "data": {
      "text/plain": [
       "45"
      ]
     },
     "execution_count": 14,
     "metadata": {},
     "output_type": "execute_result"
    }
   ],
   "source": [
    "get_actual_cost(594, 288, 400, 15) "
   ]
  },
  {
   "cell_type": "markdown",
   "id": "de61ab21",
   "metadata": {
    "papermill": {
     "duration": 0.00643,
     "end_time": "2025-03-05T11:03:19.376554",
     "exception": false,
     "start_time": "2025-03-05T11:03:19.370124",
     "status": "completed"
    },
    "tags": []
   },
   "source": [
    "# Keep going\n",
    "\n",
    "Continue to learn about **[data types](https://www.kaggle.com/alexisbcook/data-types)**."
   ]
  },
  {
   "cell_type": "markdown",
   "id": "7491afc8",
   "metadata": {
    "papermill": {
     "duration": 0.006282,
     "end_time": "2025-03-05T11:03:19.389529",
     "exception": false,
     "start_time": "2025-03-05T11:03:19.383247",
     "status": "completed"
    },
    "tags": []
   },
   "source": [
    "---\n",
    "\n",
    "\n",
    "\n",
    "\n",
    "*Have questions or comments? Visit the [course discussion forum](https://www.kaggle.com/learn/intro-to-programming/discussion) to chat with other learners.*"
   ]
  }
 ],
 "metadata": {
  "kaggle": {
   "accelerator": "none",
   "dataSources": [],
   "isGpuEnabled": false,
   "isInternetEnabled": false,
   "language": "python",
   "sourceType": "notebook"
  },
  "kernelspec": {
   "display_name": "Python 3",
   "language": "python",
   "name": "python3"
  },
  "language_info": {
   "codemirror_mode": {
    "name": "ipython",
    "version": 3
   },
   "file_extension": ".py",
   "mimetype": "text/x-python",
   "name": "python",
   "nbconvert_exporter": "python",
   "pygments_lexer": "ipython3",
   "version": "3.10.12"
  },
  "papermill": {
   "default_parameters": {},
   "duration": 5.30958,
   "end_time": "2025-03-05T11:03:20.016850",
   "environment_variables": {},
   "exception": null,
   "input_path": "__notebook__.ipynb",
   "output_path": "__notebook__.ipynb",
   "parameters": {},
   "start_time": "2025-03-05T11:03:14.707270",
   "version": "2.6.0"
  }
 },
 "nbformat": 4,
 "nbformat_minor": 5
}
