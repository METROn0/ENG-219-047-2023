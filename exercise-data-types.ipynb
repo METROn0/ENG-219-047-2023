{
 "cells": [
  {
   "cell_type": "markdown",
   "id": "efbdba7b",
   "metadata": {
    "papermill": {
     "duration": 0.005764,
     "end_time": "2025-03-05T10:59:01.353776",
     "exception": false,
     "start_time": "2025-03-05T10:59:01.348012",
     "status": "completed"
    },
    "tags": []
   },
   "source": [
    "**This notebook is an exercise in the [Intro to Programming](https://www.kaggle.com/learn/intro-to-programming) course.  You can reference the tutorial at [this link](https://www.kaggle.com/alexisbcook/data-types).**\n",
    "\n",
    "---\n"
   ]
  },
  {
   "cell_type": "markdown",
   "id": "7f62bdc2",
   "metadata": {
    "papermill": {
     "duration": 0.004837,
     "end_time": "2025-03-05T10:59:01.363775",
     "exception": false,
     "start_time": "2025-03-05T10:59:01.358938",
     "status": "completed"
    },
    "tags": []
   },
   "source": [
    "In the tutorial, you learned about four different data types: floats, integers, strings, and booleans.  In this exercise, you'll experiment with them.\n",
    "\n",
    "# Set up the notebook\n",
    "\n",
    "Run the next code cell without changes to set up the notebook."
   ]
  },
  {
   "cell_type": "code",
   "execution_count": 1,
   "id": "17128c29",
   "metadata": {
    "execution": {
     "iopub.execute_input": "2025-03-05T10:59:01.375091Z",
     "iopub.status.busy": "2025-03-05T10:59:01.374768Z",
     "iopub.status.idle": "2025-03-05T10:59:02.606591Z",
     "shell.execute_reply": "2025-03-05T10:59:02.605330Z"
    },
    "papermill": {
     "duration": 1.239608,
     "end_time": "2025-03-05T10:59:02.608386",
     "exception": false,
     "start_time": "2025-03-05T10:59:01.368778",
     "status": "completed"
    },
    "tags": []
   },
   "outputs": [
    {
     "name": "stdout",
     "output_type": "stream",
     "text": [
      "Setup complete.\n"
     ]
    }
   ],
   "source": [
    "# Set up the exercise\n",
    "from learntools.core import binder\n",
    "binder.bind(globals())\n",
    "from learntools.intro_to_programming.ex3 import *\n",
    "print('Setup complete.')"
   ]
  },
  {
   "cell_type": "markdown",
   "id": "26935255",
   "metadata": {
    "papermill": {
     "duration": 0.004831,
     "end_time": "2025-03-05T10:59:02.618796",
     "exception": false,
     "start_time": "2025-03-05T10:59:02.613965",
     "status": "completed"
    },
    "tags": []
   },
   "source": [
    "# Question 1\n",
    "\n",
    "You have seen how to convert a float to an integer with the `int` function.  Try this out yourself by running the code cell below."
   ]
  },
  {
   "cell_type": "code",
   "execution_count": 2,
   "id": "822b7a66",
   "metadata": {
    "execution": {
     "iopub.execute_input": "2025-03-05T10:59:02.630445Z",
     "iopub.status.busy": "2025-03-05T10:59:02.629955Z",
     "iopub.status.idle": "2025-03-05T10:59:02.636234Z",
     "shell.execute_reply": "2025-03-05T10:59:02.635249Z"
    },
    "papermill": {
     "duration": 0.014214,
     "end_time": "2025-03-05T10:59:02.638136",
     "exception": false,
     "start_time": "2025-03-05T10:59:02.623922",
     "status": "completed"
    },
    "tags": []
   },
   "outputs": [
    {
     "name": "stdout",
     "output_type": "stream",
     "text": [
      "1.0\n",
      "<class 'float'>\n",
      "1\n",
      "<class 'int'>\n"
     ]
    }
   ],
   "source": [
    "# Define a float\n",
    "y = 1.\n",
    "print(y)\n",
    "print(type(y))\n",
    "\n",
    "# Convert float to integer with the int function\n",
    "z = int(y)\n",
    "print(z)\n",
    "print(type(z))"
   ]
  },
  {
   "cell_type": "markdown",
   "id": "f988149d",
   "metadata": {
    "papermill": {
     "duration": 0.004933,
     "end_time": "2025-03-05T10:59:02.648404",
     "exception": false,
     "start_time": "2025-03-05T10:59:02.643471",
     "status": "completed"
    },
    "tags": []
   },
   "source": [
    "In this case, the float you are using has no numbers after the decimal.  \n",
    "- But what happens when you try to convert a float with a fractional part to an integer?  \n",
    "- How does the outcome of the `int` function change for positive and negative numbers?\n",
    "\n",
    "Use the next code cell to investigate and answer these questions.  Feel free to add or remove any lines of code -- it is your workspace!"
   ]
  },
  {
   "cell_type": "code",
   "execution_count": 3,
   "id": "bf99d0a4",
   "metadata": {
    "execution": {
     "iopub.execute_input": "2025-03-05T10:59:02.660008Z",
     "iopub.status.busy": "2025-03-05T10:59:02.659605Z",
     "iopub.status.idle": "2025-03-05T10:59:02.665429Z",
     "shell.execute_reply": "2025-03-05T10:59:02.664394Z"
    },
    "papermill": {
     "duration": 0.013401,
     "end_time": "2025-03-05T10:59:02.667037",
     "exception": false,
     "start_time": "2025-03-05T10:59:02.653636",
     "status": "completed"
    },
    "tags": []
   },
   "outputs": [
    {
     "name": "stdout",
     "output_type": "stream",
     "text": [
      "1\n",
      "1\n",
      "-3\n",
      "-2\n"
     ]
    }
   ],
   "source": [
    "# Uncomment and run this code to get started!\n",
    "print(int(1.2321))\n",
    "print(int(1.747))\n",
    "print(int(-3.94535))\n",
    "print(int(-2.19774))"
   ]
  },
  {
   "cell_type": "markdown",
   "id": "4fe37b4c",
   "metadata": {
    "papermill": {
     "duration": 0.005034,
     "end_time": "2025-03-05T10:59:02.677413",
     "exception": false,
     "start_time": "2025-03-05T10:59:02.672379",
     "status": "completed"
    },
    "tags": []
   },
   "source": [
    "Once you have an answer, run the code cell below to see the solution.  Viewing the solution will give you credit for answering the problem."
   ]
  },
  {
   "cell_type": "code",
   "execution_count": 4,
   "id": "0fa2d911",
   "metadata": {
    "execution": {
     "iopub.execute_input": "2025-03-05T10:59:02.689149Z",
     "iopub.status.busy": "2025-03-05T10:59:02.688752Z",
     "iopub.status.idle": "2025-03-05T10:59:02.696929Z",
     "shell.execute_reply": "2025-03-05T10:59:02.695838Z"
    },
    "papermill": {
     "duration": 0.016015,
     "end_time": "2025-03-05T10:59:02.698638",
     "exception": false,
     "start_time": "2025-03-05T10:59:02.682623",
     "status": "completed"
    },
    "tags": []
   },
   "outputs": [
    {
     "data": {
      "application/javascript": [
       "parent.postMessage({\"jupyterEvent\": \"custom.exercise_interaction\", \"data\": {\"outcomeType\": 1, \"valueTowardsCompletion\": 0.2, \"interactionType\": 1, \"questionType\": 4, \"questionId\": \"1_FloatToInt\", \"learnToolsVersion\": \"0.3.4\", \"failureMessage\": \"\", \"exceptionClass\": \"\", \"trace\": \"\"}}, \"*\")"
      ],
      "text/plain": [
       "<IPython.core.display.Javascript object>"
      ]
     },
     "metadata": {},
     "output_type": "display_data"
    },
    {
     "data": {
      "text/markdown": [
       "<span style=\"color:#33cc33\">Correct:</span> \n",
       "\n",
       "Negative floats are always rounded UP to the closest integer (for instance, both -1.1 and -1.9 are rounded up to -1). Positive floats are always rounded DOWN to the closest integer (for instance, 2.1 and 2.9 are rounded down to 2)."
      ],
      "text/plain": [
       "Correct: \n",
       "\n",
       "Negative floats are always rounded UP to the closest integer (for instance, both -1.1 and -1.9 are rounded up to -1). Positive floats are always rounded DOWN to the closest integer (for instance, 2.1 and 2.9 are rounded down to 2)."
      ]
     },
     "metadata": {},
     "output_type": "display_data"
    }
   ],
   "source": [
    "# Check your answer (Run this code cell to receive credit!)\n",
    "q1.check()"
   ]
  },
  {
   "cell_type": "markdown",
   "id": "cd5b45fa",
   "metadata": {
    "papermill": {
     "duration": 0.005197,
     "end_time": "2025-03-05T10:59:02.709540",
     "exception": false,
     "start_time": "2025-03-05T10:59:02.704343",
     "status": "completed"
    },
    "tags": []
   },
   "source": [
    "# Question 2\n",
    "\n",
    "In the tutorial, you learned about booleans (which can take a value of `True` or `False`), in addition to integers, floats, and strings.  For this question, your goal is to determine what happens when you multiply a boolean by any of these data types.  Specifically, \n",
    "- What happens when you multiply an integer or float by `True`?  What happens when you multiply them by `False`?  How does the answer change if the numbers are positive or negative?\n",
    "- What happens when you multiply a string by `True`?  By `False`?\n",
    "\n",
    "Use the next code cell for your investigation. "
   ]
  },
  {
   "cell_type": "code",
   "execution_count": 5,
   "id": "675907f2",
   "metadata": {
    "execution": {
     "iopub.execute_input": "2025-03-05T10:59:02.722971Z",
     "iopub.status.busy": "2025-03-05T10:59:02.722660Z",
     "iopub.status.idle": "2025-03-05T10:59:02.728560Z",
     "shell.execute_reply": "2025-03-05T10:59:02.727493Z"
    },
    "papermill": {
     "duration": 0.014006,
     "end_time": "2025-03-05T10:59:02.730295",
     "exception": false,
     "start_time": "2025-03-05T10:59:02.716289",
     "status": "completed"
    },
    "tags": []
   },
   "outputs": [
    {
     "name": "stdout",
     "output_type": "stream",
     "text": [
      "3\n",
      "-3.1\n",
      "<class 'str'>\n",
      "0\n"
     ]
    }
   ],
   "source": [
    "# Uncomment and run this code to get started!\n",
    "print(3 * True)\n",
    "print(-3.1 * True)\n",
    "print(type(\"abc\" * False))\n",
    "print(len(\"abc\" * False))"
   ]
  },
  {
   "cell_type": "markdown",
   "id": "18886a66",
   "metadata": {
    "papermill": {
     "duration": 0.005215,
     "end_time": "2025-03-05T10:59:02.741209",
     "exception": false,
     "start_time": "2025-03-05T10:59:02.735994",
     "status": "completed"
    },
    "tags": []
   },
   "source": [
    "Once you have an answer, run the code cell below to see the solution.  Viewing the solution will give you credit for answering the problem."
   ]
  },
  {
   "cell_type": "code",
   "execution_count": 6,
   "id": "80613ed8",
   "metadata": {
    "execution": {
     "iopub.execute_input": "2025-03-05T10:59:02.753444Z",
     "iopub.status.busy": "2025-03-05T10:59:02.753052Z",
     "iopub.status.idle": "2025-03-05T10:59:02.760481Z",
     "shell.execute_reply": "2025-03-05T10:59:02.759513Z"
    },
    "papermill": {
     "duration": 0.015733,
     "end_time": "2025-03-05T10:59:02.762446",
     "exception": false,
     "start_time": "2025-03-05T10:59:02.746713",
     "status": "completed"
    },
    "tags": []
   },
   "outputs": [
    {
     "data": {
      "application/javascript": [
       "parent.postMessage({\"jupyterEvent\": \"custom.exercise_interaction\", \"data\": {\"outcomeType\": 1, \"valueTowardsCompletion\": 0.2, \"interactionType\": 1, \"questionType\": 4, \"questionId\": \"2_MultiplyBooleans\", \"learnToolsVersion\": \"0.3.4\", \"failureMessage\": \"\", \"exceptionClass\": \"\", \"trace\": \"\"}}, \"*\")"
      ],
      "text/plain": [
       "<IPython.core.display.Javascript object>"
      ]
     },
     "metadata": {},
     "output_type": "display_data"
    },
    {
     "data": {
      "text/markdown": [
       "<span style=\"color:#33cc33\">Correct:</span> \n",
       "\n",
       "When you multiple an integer or float by a boolean with value `True`, it just returns that same integer or float (and is equivalent to multiplying by 1).  If you multiply an integer or float by a boolean with value `False`, it always returns 0.  This is true for both positive and negative numbers.  If you multiply a string by a boolean with value `True`, it just returns that same string.  And if you multiply a string by a boolean with value `False`, it returns an empty string (or a string with length zero)."
      ],
      "text/plain": [
       "Correct: \n",
       "\n",
       "When you multiple an integer or float by a boolean with value `True`, it just returns that same integer or float (and is equivalent to multiplying by 1).  If you multiply an integer or float by a boolean with value `False`, it always returns 0.  This is true for both positive and negative numbers.  If you multiply a string by a boolean with value `True`, it just returns that same string.  And if you multiply a string by a boolean with value `False`, it returns an empty string (or a string with length zero)."
      ]
     },
     "metadata": {},
     "output_type": "display_data"
    }
   ],
   "source": [
    "# Check your answer (Run this code cell to receive credit!)\n",
    "q2.check()"
   ]
  },
  {
   "cell_type": "markdown",
   "id": "8702a82f",
   "metadata": {
    "papermill": {
     "duration": 0.005494,
     "end_time": "2025-03-05T10:59:02.774289",
     "exception": false,
     "start_time": "2025-03-05T10:59:02.768795",
     "status": "completed"
    },
    "tags": []
   },
   "source": [
    "# Question 3\n",
    "\n",
    "In this question, you will build off your work from the previous exercise to write a function that estimates the value of a house.\n",
    "\n",
    "Use the next code cell to create a function `get_expected_cost` that takes as input three variables:\n",
    "- `beds` - number of bedrooms (data type float)\n",
    "- `baths` - number of bathrooms (data type float)\n",
    "- `has_basement` - whether or not the house has a basement (data type boolean)\n",
    "\n",
    "It should return the expected cost of a house with those characteristics. Assume that:\n",
    "- the expected cost for a house with 0 bedrooms and 0 bathrooms, and no basement is 80000, \n",
    "- each bedroom adds 30000 to the expected cost,\n",
    "- each bathroom adds 10000 to the expected cost, and\n",
    "- a basement adds 40000 to the expected cost.\n",
    "\n",
    "For instance,\n",
    "- a house with 1 bedroom, 1 bathroom, and no basement has an expected cost of 80000 + 30000 + 10000 = 120000.  This value will be calculated with `get_expected_cost(1, 1, False)`.\n",
    "- a house with 2 bedrooms, 1 bathroom, and a basement has an expected cost of 80000 + 2*30000 + 10000 + 40000 = 190000.  This value will be calculated with `get_expected_cost(2, 1, True)`.\n",
    "\n",
    "Remember you can always get a hint by uncommenting `q3.hint()` in the code cell following the next!"
   ]
  },
  {
   "cell_type": "code",
   "execution_count": 7,
   "id": "b94cc1cb",
   "metadata": {
    "execution": {
     "iopub.execute_input": "2025-03-05T10:59:02.786891Z",
     "iopub.status.busy": "2025-03-05T10:59:02.786533Z",
     "iopub.status.idle": "2025-03-05T10:59:02.794040Z",
     "shell.execute_reply": "2025-03-05T10:59:02.792913Z"
    },
    "papermill": {
     "duration": 0.015731,
     "end_time": "2025-03-05T10:59:02.795748",
     "exception": false,
     "start_time": "2025-03-05T10:59:02.780017",
     "status": "completed"
    },
    "tags": []
   },
   "outputs": [
    {
     "data": {
      "application/javascript": [
       "parent.postMessage({\"jupyterEvent\": \"custom.exercise_interaction\", \"data\": {\"outcomeType\": 1, \"valueTowardsCompletion\": 0.2, \"interactionType\": 1, \"questionType\": 2, \"questionId\": \"3_EstimateHouseValueBool\", \"learnToolsVersion\": \"0.3.4\", \"failureMessage\": \"\", \"exceptionClass\": \"\", \"trace\": \"\"}}, \"*\")"
      ],
      "text/plain": [
       "<IPython.core.display.Javascript object>"
      ]
     },
     "metadata": {},
     "output_type": "display_data"
    },
    {
     "data": {
      "text/markdown": [
       "<span style=\"color:#33cc33\">Correct</span>"
      ],
      "text/plain": [
       "Correct"
      ]
     },
     "metadata": {},
     "output_type": "display_data"
    }
   ],
   "source": [
    "# TODO: Complete the function\n",
    "def get_expected_cost(beds, baths, has_basement):\n",
    "    value = 80000 + 30000 * beds + 10000 * baths + 40000 * has_basement\n",
    "    return value\n",
    "\n",
    "# Check your answer \n",
    "q3.check()"
   ]
  },
  {
   "cell_type": "code",
   "execution_count": 8,
   "id": "a5d6fcdc",
   "metadata": {
    "execution": {
     "iopub.execute_input": "2025-03-05T10:59:02.809089Z",
     "iopub.status.busy": "2025-03-05T10:59:02.808775Z",
     "iopub.status.idle": "2025-03-05T10:59:02.812601Z",
     "shell.execute_reply": "2025-03-05T10:59:02.811560Z"
    },
    "papermill": {
     "duration": 0.012386,
     "end_time": "2025-03-05T10:59:02.814198",
     "exception": false,
     "start_time": "2025-03-05T10:59:02.801812",
     "status": "completed"
    },
    "tags": []
   },
   "outputs": [],
   "source": [
    "# Uncomment to see a hint\n",
    "#q3.hint()\n",
    "\n",
    "# Uncomment to view the solution\n",
    "#q3.solution()"
   ]
  },
  {
   "cell_type": "markdown",
   "id": "c27a0f03",
   "metadata": {
    "papermill": {
     "duration": 0.005888,
     "end_time": "2025-03-05T10:59:02.826324",
     "exception": false,
     "start_time": "2025-03-05T10:59:02.820436",
     "status": "completed"
    },
    "tags": []
   },
   "source": [
    "# Question 4\n",
    "\n",
    "We'll continue our study of boolean arithmetic.  For this question, your task is to provide a description of what happpens when you add booleans. \n",
    "\n",
    "Use the next code cell for your investigation.  Feel free to add or remove any lines of code - use it as your workspace!"
   ]
  },
  {
   "cell_type": "code",
   "execution_count": 9,
   "id": "98a5e83b",
   "metadata": {
    "execution": {
     "iopub.execute_input": "2025-03-05T10:59:02.839867Z",
     "iopub.status.busy": "2025-03-05T10:59:02.839441Z",
     "iopub.status.idle": "2025-03-05T10:59:02.845440Z",
     "shell.execute_reply": "2025-03-05T10:59:02.844151Z"
    },
    "papermill": {
     "duration": 0.014614,
     "end_time": "2025-03-05T10:59:02.847045",
     "exception": false,
     "start_time": "2025-03-05T10:59:02.832431",
     "status": "completed"
    },
    "tags": []
   },
   "outputs": [
    {
     "name": "stdout",
     "output_type": "stream",
     "text": [
      "0\n",
      "1\n",
      "1\n",
      "2\n",
      "3\n"
     ]
    }
   ],
   "source": [
    "print(False + False)\n",
    "print(True + False)\n",
    "print(False + True)\n",
    "print(True + True)\n",
    "print(False + True + True + True)"
   ]
  },
  {
   "cell_type": "markdown",
   "id": "ea9c13fb",
   "metadata": {
    "papermill": {
     "duration": 0.006193,
     "end_time": "2025-03-05T10:59:02.859420",
     "exception": false,
     "start_time": "2025-03-05T10:59:02.853227",
     "status": "completed"
    },
    "tags": []
   },
   "source": [
    "Once you have an answer, run the code cell below to see the solution.  Viewing the solution will give you credit for answering the problem."
   ]
  },
  {
   "cell_type": "code",
   "execution_count": 10,
   "id": "2cc1cc0c",
   "metadata": {
    "execution": {
     "iopub.execute_input": "2025-03-05T10:59:02.873273Z",
     "iopub.status.busy": "2025-03-05T10:59:02.872891Z",
     "iopub.status.idle": "2025-03-05T10:59:02.880522Z",
     "shell.execute_reply": "2025-03-05T10:59:02.879411Z"
    },
    "papermill": {
     "duration": 0.016464,
     "end_time": "2025-03-05T10:59:02.882289",
     "exception": false,
     "start_time": "2025-03-05T10:59:02.865825",
     "status": "completed"
    },
    "tags": []
   },
   "outputs": [
    {
     "data": {
      "application/javascript": [
       "parent.postMessage({\"jupyterEvent\": \"custom.exercise_interaction\", \"data\": {\"outcomeType\": 1, \"valueTowardsCompletion\": 0.2, \"interactionType\": 1, \"questionType\": 4, \"questionId\": \"4_AddingBooleans\", \"learnToolsVersion\": \"0.3.4\", \"failureMessage\": \"\", \"exceptionClass\": \"\", \"trace\": \"\"}}, \"*\")"
      ],
      "text/plain": [
       "<IPython.core.display.Javascript object>"
      ]
     },
     "metadata": {},
     "output_type": "display_data"
    },
    {
     "data": {
      "text/markdown": [
       "<span style=\"color:#33cc33\">Correct:</span> \n",
       "\n",
       "When you add booleans, adding `False` is equivalent to adding 0, and adding `True` is equivalent to adding 1."
      ],
      "text/plain": [
       "Correct: \n",
       "\n",
       "When you add booleans, adding `False` is equivalent to adding 0, and adding `True` is equivalent to adding 1."
      ]
     },
     "metadata": {},
     "output_type": "display_data"
    }
   ],
   "source": [
    "# Check your answer (Run this code cell to receive credit!)\n",
    "q4.check()"
   ]
  },
  {
   "cell_type": "markdown",
   "id": "b0d77325",
   "metadata": {
    "papermill": {
     "duration": 0.006195,
     "end_time": "2025-03-05T10:59:02.895118",
     "exception": false,
     "start_time": "2025-03-05T10:59:02.888923",
     "status": "completed"
    },
    "tags": []
   },
   "source": [
    "# 🌶️ Question 5\n",
    "\n",
    "You own an online shop where you sell rings with custom engravings.  You offer both gold plated and solid gold rings.\n",
    "- Gold plated rings have a base cost of \\\\$50, and you charge \\\\$7 per engraved unit.  \n",
    "- Solid gold rings have a base cost of \\\\$100, and you charge \\\\$10 per engraved unit.\n",
    "- Spaces and punctuation are counted as engraved units.\n",
    "\n",
    "Write a function `cost_of_project()` that takes two arguments:\n",
    "- `engraving` - a Python string with the text of the engraving\n",
    "- `solid_gold` - a Boolean that indicates whether the ring is solid gold\n",
    "\n",
    "It should return the cost of the project.  This question should be fairly challenging, and you may need a hint."
   ]
  },
  {
   "cell_type": "code",
   "execution_count": 11,
   "id": "9ead69e9",
   "metadata": {
    "execution": {
     "iopub.execute_input": "2025-03-05T10:59:02.908914Z",
     "iopub.status.busy": "2025-03-05T10:59:02.908559Z",
     "iopub.status.idle": "2025-03-05T10:59:02.916587Z",
     "shell.execute_reply": "2025-03-05T10:59:02.915651Z"
    },
    "papermill": {
     "duration": 0.016737,
     "end_time": "2025-03-05T10:59:02.918153",
     "exception": false,
     "start_time": "2025-03-05T10:59:02.901416",
     "status": "completed"
    },
    "tags": []
   },
   "outputs": [
    {
     "data": {
      "application/javascript": [
       "parent.postMessage({\"jupyterEvent\": \"custom.exercise_interaction\", \"data\": {\"outcomeType\": 1, \"valueTowardsCompletion\": 0.2, \"interactionType\": 1, \"questionType\": 2, \"questionId\": \"5_CustomEngravings\", \"learnToolsVersion\": \"0.3.4\", \"failureMessage\": \"\", \"exceptionClass\": \"\", \"trace\": \"\"}}, \"*\")"
      ],
      "text/plain": [
       "<IPython.core.display.Javascript object>"
      ]
     },
     "metadata": {},
     "output_type": "display_data"
    },
    {
     "data": {
      "text/markdown": [
       "<span style=\"color:#33cc33\">Correct</span>"
      ],
      "text/plain": [
       "Correct"
      ]
     },
     "metadata": {},
     "output_type": "display_data"
    }
   ],
   "source": [
    "def cost_of_project(engraving, solid_gold):\n",
    "    cost = solid_gold * (100 + 10 * len(engraving)) + (not solid_gold) * (50 + 7 * len(engraving))\n",
    "    return cost\n",
    "\n",
    "# Check your answer\n",
    "q5.check()"
   ]
  },
  {
   "cell_type": "code",
   "execution_count": 12,
   "id": "01f1d0c1",
   "metadata": {
    "execution": {
     "iopub.execute_input": "2025-03-05T10:59:02.932664Z",
     "iopub.status.busy": "2025-03-05T10:59:02.932348Z",
     "iopub.status.idle": "2025-03-05T10:59:02.935961Z",
     "shell.execute_reply": "2025-03-05T10:59:02.935001Z"
    },
    "papermill": {
     "duration": 0.012889,
     "end_time": "2025-03-05T10:59:02.937740",
     "exception": false,
     "start_time": "2025-03-05T10:59:02.924851",
     "status": "completed"
    },
    "tags": []
   },
   "outputs": [],
   "source": [
    "# Uncomment to see a hint\n",
    "#q5.hint()\n",
    "\n",
    "# Uncomment to view the solution\n",
    "#q5.solution()"
   ]
  },
  {
   "cell_type": "markdown",
   "id": "1871ef4e",
   "metadata": {
    "papermill": {
     "duration": 0.006651,
     "end_time": "2025-03-05T10:59:02.951677",
     "exception": false,
     "start_time": "2025-03-05T10:59:02.945026",
     "status": "completed"
    },
    "tags": []
   },
   "source": [
    "Run the next code cell to calculate the cost of engraving `Charlie+Denver` on a solid gold ring."
   ]
  },
  {
   "cell_type": "code",
   "execution_count": 13,
   "id": "05e4944d",
   "metadata": {
    "execution": {
     "iopub.execute_input": "2025-03-05T10:59:02.966319Z",
     "iopub.status.busy": "2025-03-05T10:59:02.965912Z",
     "iopub.status.idle": "2025-03-05T10:59:02.970858Z",
     "shell.execute_reply": "2025-03-05T10:59:02.969830Z"
    },
    "papermill": {
     "duration": 0.01408,
     "end_time": "2025-03-05T10:59:02.972514",
     "exception": false,
     "start_time": "2025-03-05T10:59:02.958434",
     "status": "completed"
    },
    "tags": []
   },
   "outputs": [
    {
     "name": "stdout",
     "output_type": "stream",
     "text": [
      "240\n"
     ]
    }
   ],
   "source": [
    "project_one = cost_of_project(\"Charlie+Denver\", True)\n",
    "print(project_one)"
   ]
  },
  {
   "cell_type": "markdown",
   "id": "a7bd5e11",
   "metadata": {
    "papermill": {
     "duration": 0.006279,
     "end_time": "2025-03-05T10:59:02.985391",
     "exception": false,
     "start_time": "2025-03-05T10:59:02.979112",
     "status": "completed"
    },
    "tags": []
   },
   "source": [
    "Use the next code cell to calculate the cost of engraving `08/10/2000` on a gold plated ring."
   ]
  },
  {
   "cell_type": "code",
   "execution_count": 14,
   "id": "b7073f1d",
   "metadata": {
    "execution": {
     "iopub.execute_input": "2025-03-05T10:59:02.999496Z",
     "iopub.status.busy": "2025-03-05T10:59:02.999118Z",
     "iopub.status.idle": "2025-03-05T10:59:03.004324Z",
     "shell.execute_reply": "2025-03-05T10:59:03.003141Z"
    },
    "papermill": {
     "duration": 0.014672,
     "end_time": "2025-03-05T10:59:03.006454",
     "exception": false,
     "start_time": "2025-03-05T10:59:02.991782",
     "status": "completed"
    },
    "tags": []
   },
   "outputs": [
    {
     "name": "stdout",
     "output_type": "stream",
     "text": [
      "120\n"
     ]
    }
   ],
   "source": [
    "project_two = cost_of_project(\"08/10/2000\", False)\n",
    "print(project_two)"
   ]
  },
  {
   "cell_type": "markdown",
   "id": "86a6e9bb",
   "metadata": {
    "papermill": {
     "duration": 0.006248,
     "end_time": "2025-03-05T10:59:03.019471",
     "exception": false,
     "start_time": "2025-03-05T10:59:03.013223",
     "status": "completed"
    },
    "tags": []
   },
   "source": [
    "# Keep going\n",
    "\n",
    "Continue to the next lesson to **[learn about conditions and conditional statements](https://www.kaggle.com/alexisbcook/conditions-and-conditional-statements)**."
   ]
  },
  {
   "cell_type": "markdown",
   "id": "4c40a183",
   "metadata": {
    "papermill": {
     "duration": 0.00623,
     "end_time": "2025-03-05T10:59:03.032665",
     "exception": false,
     "start_time": "2025-03-05T10:59:03.026435",
     "status": "completed"
    },
    "tags": []
   },
   "source": [
    "---\n",
    "\n",
    "\n",
    "\n",
    "\n",
    "*Have questions or comments? Visit the [course discussion forum](https://www.kaggle.com/learn/intro-to-programming/discussion) to chat with other learners.*"
   ]
  }
 ],
 "metadata": {
  "kaggle": {
   "accelerator": "none",
   "dataSources": [],
   "isGpuEnabled": false,
   "isInternetEnabled": false,
   "language": "python",
   "sourceType": "notebook"
  },
  "kernelspec": {
   "display_name": "Python 3",
   "language": "python",
   "name": "python3"
  },
  "language_info": {
   "codemirror_mode": {
    "name": "ipython",
    "version": 3
   },
   "file_extension": ".py",
   "mimetype": "text/x-python",
   "name": "python",
   "nbconvert_exporter": "python",
   "pygments_lexer": "ipython3",
   "version": "3.10.12"
  },
  "papermill": {
   "default_parameters": {},
   "duration": 5.240216,
   "end_time": "2025-03-05T10:59:03.659570",
   "environment_variables": {},
   "exception": null,
   "input_path": "__notebook__.ipynb",
   "output_path": "__notebook__.ipynb",
   "parameters": {},
   "start_time": "2025-03-05T10:58:58.419354",
   "version": "2.3.3"
  }
 },
 "nbformat": 4,
 "nbformat_minor": 5
}
